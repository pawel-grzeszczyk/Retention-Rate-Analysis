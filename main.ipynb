{
 "cells": [
  {
   "cell_type": "markdown",
   "metadata": {},
   "source": [
    "### **Imports**"
   ]
  },
  {
   "cell_type": "code",
   "execution_count": 2,
   "metadata": {},
   "outputs": [
    {
     "data": {
      "text/plain": [
       "<module 'functions' from 'c:\\\\Users\\\\pgrze\\\\Desktop\\\\OLX\\\\functions.py'>"
      ]
     },
     "execution_count": 2,
     "metadata": {},
     "output_type": "execute_result"
    }
   ],
   "source": [
    "import numpy as np\n",
    "import matplotlib.pyplot as plt\n",
    "import pandas as pd\n",
    "from scipy import stats\n",
    "\n",
    "import functions\n",
    "\n",
    "import importlib\n",
    "importlib.reload(functions)"
   ]
  },
  {
   "cell_type": "markdown",
   "metadata": {},
   "source": [
    "### **Data import**"
   ]
  },
  {
   "cell_type": "code",
   "execution_count": 3,
   "metadata": {},
   "outputs": [],
   "source": [
    "data_visits = pd.read_csv('data/data_visits.csv')\n",
    "data_users = pd.read_csv('data/data_users.csv')\n",
    "data_ads = pd.read_csv('data/data_ads.csv')"
   ]
  },
  {
   "cell_type": "markdown",
   "metadata": {},
   "source": [
    "**data_visits** - users’ activities (events). Any activity means that a user visited the platform.  \n",
    "Possible activities:\n",
    "* listing - displaying results of a search in a listing form,\n",
    "* ad_page -  displaying a single offer."
   ]
  },
  {
   "cell_type": "code",
   "execution_count": 4,
   "metadata": {},
   "outputs": [
    {
     "data": {
      "text/html": [
       "<div>\n",
       "<style scoped>\n",
       "    .dataframe tbody tr th:only-of-type {\n",
       "        vertical-align: middle;\n",
       "    }\n",
       "\n",
       "    .dataframe tbody tr th {\n",
       "        vertical-align: top;\n",
       "    }\n",
       "\n",
       "    .dataframe thead th {\n",
       "        text-align: right;\n",
       "    }\n",
       "</style>\n",
       "<table border=\"1\" class=\"dataframe\">\n",
       "  <thead>\n",
       "    <tr style=\"text-align: right;\">\n",
       "      <th></th>\n",
       "      <th>user_id</th>\n",
       "      <th>session_id</th>\n",
       "      <th>time_stamp</th>\n",
       "      <th>event_name</th>\n",
       "      <th>ad_id</th>\n",
       "    </tr>\n",
       "  </thead>\n",
       "  <tbody>\n",
       "    <tr>\n",
       "      <th>0</th>\n",
       "      <td>g97t07v0wif2</td>\n",
       "      <td>ffa6acsavya608i3</td>\n",
       "      <td>2021-06-01 15:13:52</td>\n",
       "      <td>listing</td>\n",
       "      <td>NaN</td>\n",
       "    </tr>\n",
       "    <tr>\n",
       "      <th>1</th>\n",
       "      <td>5uhpyit6k11p</td>\n",
       "      <td>2vdknsqr0w4g8vkl</td>\n",
       "      <td>2021-06-07 10:15:54</td>\n",
       "      <td>listing</td>\n",
       "      <td>NaN</td>\n",
       "    </tr>\n",
       "    <tr>\n",
       "      <th>2</th>\n",
       "      <td>ouq25xxc0ey4</td>\n",
       "      <td>dpxkyy1bx9bff0si</td>\n",
       "      <td>2021-06-06 18:37:28</td>\n",
       "      <td>listing</td>\n",
       "      <td>NaN</td>\n",
       "    </tr>\n",
       "    <tr>\n",
       "      <th>3</th>\n",
       "      <td>696mc67vw4d4</td>\n",
       "      <td>6ggi8wvn27777s3l</td>\n",
       "      <td>2021-06-06 11:58:28</td>\n",
       "      <td>listing</td>\n",
       "      <td>NaN</td>\n",
       "    </tr>\n",
       "    <tr>\n",
       "      <th>4</th>\n",
       "      <td>t9fnztgbvj5d</td>\n",
       "      <td>9adjw1gu1fdk0bpf</td>\n",
       "      <td>2021-06-02 03:50:26</td>\n",
       "      <td>listing</td>\n",
       "      <td>NaN</td>\n",
       "    </tr>\n",
       "  </tbody>\n",
       "</table>\n",
       "</div>"
      ],
      "text/plain": [
       "        user_id        session_id           time_stamp event_name  ad_id\n",
       "0  g97t07v0wif2  ffa6acsavya608i3  2021-06-01 15:13:52    listing    NaN\n",
       "1  5uhpyit6k11p  2vdknsqr0w4g8vkl  2021-06-07 10:15:54    listing    NaN\n",
       "2  ouq25xxc0ey4  dpxkyy1bx9bff0si  2021-06-06 18:37:28    listing    NaN\n",
       "3  696mc67vw4d4  6ggi8wvn27777s3l  2021-06-06 11:58:28    listing    NaN\n",
       "4  t9fnztgbvj5d  9adjw1gu1fdk0bpf  2021-06-02 03:50:26    listing    NaN"
      ]
     },
     "execution_count": 4,
     "metadata": {},
     "output_type": "execute_result"
    }
   ],
   "source": [
    "data_visits.head()"
   ]
  },
  {
   "cell_type": "markdown",
   "metadata": {},
   "source": [
    "**data_users** - information about device(s) used by a user."
   ]
  },
  {
   "cell_type": "code",
   "execution_count": 5,
   "metadata": {},
   "outputs": [
    {
     "data": {
      "text/html": [
       "<div>\n",
       "<style scoped>\n",
       "    .dataframe tbody tr th:only-of-type {\n",
       "        vertical-align: middle;\n",
       "    }\n",
       "\n",
       "    .dataframe tbody tr th {\n",
       "        vertical-align: top;\n",
       "    }\n",
       "\n",
       "    .dataframe thead th {\n",
       "        text-align: right;\n",
       "    }\n",
       "</style>\n",
       "<table border=\"1\" class=\"dataframe\">\n",
       "  <thead>\n",
       "    <tr style=\"text-align: right;\">\n",
       "      <th></th>\n",
       "      <th>user_id</th>\n",
       "      <th>session_id</th>\n",
       "      <th>channel</th>\n",
       "    </tr>\n",
       "  </thead>\n",
       "  <tbody>\n",
       "    <tr>\n",
       "      <th>0</th>\n",
       "      <td>g0sja4agdm0k</td>\n",
       "      <td>l2mu1asfx3gvbnxh</td>\n",
       "      <td>desktop_web</td>\n",
       "    </tr>\n",
       "    <tr>\n",
       "      <th>1</th>\n",
       "      <td>wdkg24pt65kz</td>\n",
       "      <td>jvd5mznecdykfu5g</td>\n",
       "      <td>mobile_web</td>\n",
       "    </tr>\n",
       "    <tr>\n",
       "      <th>2</th>\n",
       "      <td>alf0l68m8rhj</td>\n",
       "      <td>waezug10vuluzvjs</td>\n",
       "      <td>ios</td>\n",
       "    </tr>\n",
       "    <tr>\n",
       "      <th>3</th>\n",
       "      <td>rk9dm3ui88b4</td>\n",
       "      <td>1u2ux17lf85o17tu</td>\n",
       "      <td>android</td>\n",
       "    </tr>\n",
       "    <tr>\n",
       "      <th>4</th>\n",
       "      <td>mhvyh0179r16</td>\n",
       "      <td>hdykhjoykseotffn</td>\n",
       "      <td>mobile_web</td>\n",
       "    </tr>\n",
       "  </tbody>\n",
       "</table>\n",
       "</div>"
      ],
      "text/plain": [
       "        user_id        session_id      channel\n",
       "0  g0sja4agdm0k  l2mu1asfx3gvbnxh  desktop_web\n",
       "1  wdkg24pt65kz  jvd5mznecdykfu5g   mobile_web\n",
       "2  alf0l68m8rhj  waezug10vuluzvjs          ios\n",
       "3  rk9dm3ui88b4  1u2ux17lf85o17tu      android\n",
       "4  mhvyh0179r16  hdykhjoykseotffn   mobile_web"
      ]
     },
     "execution_count": 5,
     "metadata": {},
     "output_type": "execute_result"
    }
   ],
   "source": [
    "data_users.head()"
   ]
  },
  {
   "cell_type": "markdown",
   "metadata": {},
   "source": [
    "**data_ads** - mapping to category tree."
   ]
  },
  {
   "cell_type": "code",
   "execution_count": 6,
   "metadata": {},
   "outputs": [
    {
     "data": {
      "text/html": [
       "<div>\n",
       "<style scoped>\n",
       "    .dataframe tbody tr th:only-of-type {\n",
       "        vertical-align: middle;\n",
       "    }\n",
       "\n",
       "    .dataframe tbody tr th {\n",
       "        vertical-align: top;\n",
       "    }\n",
       "\n",
       "    .dataframe thead th {\n",
       "        text-align: right;\n",
       "    }\n",
       "</style>\n",
       "<table border=\"1\" class=\"dataframe\">\n",
       "  <thead>\n",
       "    <tr style=\"text-align: right;\">\n",
       "      <th></th>\n",
       "      <th>ad_id</th>\n",
       "      <th>category_name_1</th>\n",
       "      <th>category_name_2</th>\n",
       "    </tr>\n",
       "  </thead>\n",
       "  <tbody>\n",
       "    <tr>\n",
       "      <th>0</th>\n",
       "      <td>85562364</td>\n",
       "      <td>Plots</td>\n",
       "      <td>Plots for Sale</td>\n",
       "    </tr>\n",
       "    <tr>\n",
       "      <th>1</th>\n",
       "      <td>12566559</td>\n",
       "      <td>Plots</td>\n",
       "      <td>Plots for Sale</td>\n",
       "    </tr>\n",
       "    <tr>\n",
       "      <th>2</th>\n",
       "      <td>4564313</td>\n",
       "      <td>Plots</td>\n",
       "      <td>Plots for Sale</td>\n",
       "    </tr>\n",
       "    <tr>\n",
       "      <th>3</th>\n",
       "      <td>22600229</td>\n",
       "      <td>Plots</td>\n",
       "      <td>Plots for Sale</td>\n",
       "    </tr>\n",
       "    <tr>\n",
       "      <th>4</th>\n",
       "      <td>75016268</td>\n",
       "      <td>Plots</td>\n",
       "      <td>Plots for Sale</td>\n",
       "    </tr>\n",
       "  </tbody>\n",
       "</table>\n",
       "</div>"
      ],
      "text/plain": [
       "      ad_id category_name_1 category_name_2\n",
       "0  85562364           Plots  Plots for Sale\n",
       "1  12566559           Plots  Plots for Sale\n",
       "2   4564313           Plots  Plots for Sale\n",
       "3  22600229           Plots  Plots for Sale\n",
       "4  75016268           Plots  Plots for Sale"
      ]
     },
     "execution_count": 6,
     "metadata": {},
     "output_type": "execute_result"
    }
   ],
   "source": [
    "data_ads.head()"
   ]
  },
  {
   "cell_type": "markdown",
   "metadata": {},
   "source": [
    "### **Merging all tables into one**"
   ]
  },
  {
   "cell_type": "code",
   "execution_count": 7,
   "metadata": {},
   "outputs": [
    {
     "data": {
      "text/html": [
       "<div>\n",
       "<style scoped>\n",
       "    .dataframe tbody tr th:only-of-type {\n",
       "        vertical-align: middle;\n",
       "    }\n",
       "\n",
       "    .dataframe tbody tr th {\n",
       "        vertical-align: top;\n",
       "    }\n",
       "\n",
       "    .dataframe thead th {\n",
       "        text-align: right;\n",
       "    }\n",
       "</style>\n",
       "<table border=\"1\" class=\"dataframe\">\n",
       "  <thead>\n",
       "    <tr style=\"text-align: right;\">\n",
       "      <th></th>\n",
       "      <th>user_id</th>\n",
       "      <th>session_id</th>\n",
       "      <th>time_stamp</th>\n",
       "      <th>event_name</th>\n",
       "      <th>ad_id</th>\n",
       "      <th>channel</th>\n",
       "      <th>category_name_1</th>\n",
       "      <th>category_name_2</th>\n",
       "    </tr>\n",
       "  </thead>\n",
       "  <tbody>\n",
       "    <tr>\n",
       "      <th>0</th>\n",
       "      <td>g97t07v0wif2</td>\n",
       "      <td>ffa6acsavya608i3</td>\n",
       "      <td>2021-06-01 15:13:52</td>\n",
       "      <td>listing</td>\n",
       "      <td>NaN</td>\n",
       "      <td>android</td>\n",
       "      <td>NaN</td>\n",
       "      <td>NaN</td>\n",
       "    </tr>\n",
       "    <tr>\n",
       "      <th>1</th>\n",
       "      <td>5uhpyit6k11p</td>\n",
       "      <td>2vdknsqr0w4g8vkl</td>\n",
       "      <td>2021-06-07 10:15:54</td>\n",
       "      <td>listing</td>\n",
       "      <td>NaN</td>\n",
       "      <td>desktop_web</td>\n",
       "      <td>NaN</td>\n",
       "      <td>NaN</td>\n",
       "    </tr>\n",
       "    <tr>\n",
       "      <th>2</th>\n",
       "      <td>ouq25xxc0ey4</td>\n",
       "      <td>dpxkyy1bx9bff0si</td>\n",
       "      <td>2021-06-06 18:37:28</td>\n",
       "      <td>listing</td>\n",
       "      <td>NaN</td>\n",
       "      <td>mobile_web</td>\n",
       "      <td>NaN</td>\n",
       "      <td>NaN</td>\n",
       "    </tr>\n",
       "    <tr>\n",
       "      <th>3</th>\n",
       "      <td>696mc67vw4d4</td>\n",
       "      <td>6ggi8wvn27777s3l</td>\n",
       "      <td>2021-06-06 11:58:28</td>\n",
       "      <td>listing</td>\n",
       "      <td>NaN</td>\n",
       "      <td>android</td>\n",
       "      <td>NaN</td>\n",
       "      <td>NaN</td>\n",
       "    </tr>\n",
       "    <tr>\n",
       "      <th>4</th>\n",
       "      <td>t9fnztgbvj5d</td>\n",
       "      <td>9adjw1gu1fdk0bpf</td>\n",
       "      <td>2021-06-02 03:50:26</td>\n",
       "      <td>listing</td>\n",
       "      <td>NaN</td>\n",
       "      <td>android</td>\n",
       "      <td>NaN</td>\n",
       "      <td>NaN</td>\n",
       "    </tr>\n",
       "    <tr>\n",
       "      <th>5</th>\n",
       "      <td>u70jjv8s5dp7</td>\n",
       "      <td>fqast1j5c8u3ksbl</td>\n",
       "      <td>2021-06-03 22:20:10</td>\n",
       "      <td>listing</td>\n",
       "      <td>NaN</td>\n",
       "      <td>mobile_web</td>\n",
       "      <td>NaN</td>\n",
       "      <td>NaN</td>\n",
       "    </tr>\n",
       "    <tr>\n",
       "      <th>6</th>\n",
       "      <td>0wtg4zgug5cn</td>\n",
       "      <td>0ho5kv2dpf8lyt6z</td>\n",
       "      <td>2021-06-06 08:37:57</td>\n",
       "      <td>listing</td>\n",
       "      <td>NaN</td>\n",
       "      <td>android</td>\n",
       "      <td>NaN</td>\n",
       "      <td>NaN</td>\n",
       "    </tr>\n",
       "    <tr>\n",
       "      <th>7</th>\n",
       "      <td>0js5cbihkrtm</td>\n",
       "      <td>mz7esaiegnu2lgoe</td>\n",
       "      <td>2021-06-08 21:15:25</td>\n",
       "      <td>ad_page</td>\n",
       "      <td>22954313.0</td>\n",
       "      <td>ios</td>\n",
       "      <td>Houses</td>\n",
       "      <td>Houses for Rent</td>\n",
       "    </tr>\n",
       "    <tr>\n",
       "      <th>8</th>\n",
       "      <td>hfcv6jzqdyc2</td>\n",
       "      <td>ysvt0s0arwter1f0</td>\n",
       "      <td>2021-06-10 11:46:06</td>\n",
       "      <td>ad_page</td>\n",
       "      <td>80901654.0</td>\n",
       "      <td>android</td>\n",
       "      <td>Houses</td>\n",
       "      <td>Houses for Sale</td>\n",
       "    </tr>\n",
       "    <tr>\n",
       "      <th>9</th>\n",
       "      <td>lxt4dn67xty9</td>\n",
       "      <td>hb5xxdru6xeccdu0</td>\n",
       "      <td>2021-06-04 15:36:25</td>\n",
       "      <td>listing</td>\n",
       "      <td>NaN</td>\n",
       "      <td>android</td>\n",
       "      <td>NaN</td>\n",
       "      <td>NaN</td>\n",
       "    </tr>\n",
       "  </tbody>\n",
       "</table>\n",
       "</div>"
      ],
      "text/plain": [
       "        user_id        session_id           time_stamp event_name       ad_id  \\\n",
       "0  g97t07v0wif2  ffa6acsavya608i3  2021-06-01 15:13:52    listing         NaN   \n",
       "1  5uhpyit6k11p  2vdknsqr0w4g8vkl  2021-06-07 10:15:54    listing         NaN   \n",
       "2  ouq25xxc0ey4  dpxkyy1bx9bff0si  2021-06-06 18:37:28    listing         NaN   \n",
       "3  696mc67vw4d4  6ggi8wvn27777s3l  2021-06-06 11:58:28    listing         NaN   \n",
       "4  t9fnztgbvj5d  9adjw1gu1fdk0bpf  2021-06-02 03:50:26    listing         NaN   \n",
       "5  u70jjv8s5dp7  fqast1j5c8u3ksbl  2021-06-03 22:20:10    listing         NaN   \n",
       "6  0wtg4zgug5cn  0ho5kv2dpf8lyt6z  2021-06-06 08:37:57    listing         NaN   \n",
       "7  0js5cbihkrtm  mz7esaiegnu2lgoe  2021-06-08 21:15:25    ad_page  22954313.0   \n",
       "8  hfcv6jzqdyc2  ysvt0s0arwter1f0  2021-06-10 11:46:06    ad_page  80901654.0   \n",
       "9  lxt4dn67xty9  hb5xxdru6xeccdu0  2021-06-04 15:36:25    listing         NaN   \n",
       "\n",
       "       channel category_name_1  category_name_2  \n",
       "0      android             NaN              NaN  \n",
       "1  desktop_web             NaN              NaN  \n",
       "2   mobile_web             NaN              NaN  \n",
       "3      android             NaN              NaN  \n",
       "4      android             NaN              NaN  \n",
       "5   mobile_web             NaN              NaN  \n",
       "6      android             NaN              NaN  \n",
       "7          ios          Houses  Houses for Rent  \n",
       "8      android          Houses  Houses for Sale  \n",
       "9      android             NaN              NaN  "
      ]
     },
     "execution_count": 7,
     "metadata": {},
     "output_type": "execute_result"
    }
   ],
   "source": [
    "data = pd.merge(data_visits, data_users, how='left', on=['user_id', 'session_id'])\n",
    "data = data.merge(data_ads, how='left', on='ad_id')\n",
    "data.head(10)"
   ]
  },
  {
   "cell_type": "markdown",
   "metadata": {},
   "source": [
    "### **Data Cleaning**"
   ]
  },
  {
   "cell_type": "markdown",
   "metadata": {},
   "source": [
    "**Datatypes**"
   ]
  },
  {
   "cell_type": "code",
   "execution_count": 8,
   "metadata": {},
   "outputs": [
    {
     "data": {
      "text/plain": [
       "user_id             object\n",
       "session_id          object\n",
       "time_stamp          object\n",
       "event_name          object\n",
       "ad_id              float64\n",
       "channel             object\n",
       "category_name_1     object\n",
       "category_name_2     object\n",
       "dtype: object"
      ]
     },
     "execution_count": 8,
     "metadata": {},
     "output_type": "execute_result"
    }
   ],
   "source": [
    "data.dtypes"
   ]
  },
  {
   "cell_type": "markdown",
   "metadata": {},
   "source": [
    "**Missing values**"
   ]
  },
  {
   "cell_type": "code",
   "execution_count": 9,
   "metadata": {},
   "outputs": [
    {
     "data": {
      "text/plain": [
       "user_id                 0\n",
       "session_id              0\n",
       "time_stamp              0\n",
       "event_name              0\n",
       "ad_id              190405\n",
       "channel                 0\n",
       "category_name_1    190405\n",
       "category_name_2    190405\n",
       "dtype: int64"
      ]
     },
     "execution_count": 9,
     "metadata": {},
     "output_type": "execute_result"
    }
   ],
   "source": [
    "data.isna().sum()"
   ]
  },
  {
   "cell_type": "markdown",
   "metadata": {},
   "source": [
    "Missing values are not the problem. Columns `category_name_1` and `category_name_2` are dependent on column `ad_id` which seems not to be obligatory."
   ]
  },
  {
   "cell_type": "markdown",
   "metadata": {},
   "source": [
    "**Changing the datatype of `time_stamp` from string to datetime**"
   ]
  },
  {
   "cell_type": "code",
   "execution_count": 10,
   "metadata": {},
   "outputs": [
    {
     "data": {
      "text/html": [
       "<div>\n",
       "<style scoped>\n",
       "    .dataframe tbody tr th:only-of-type {\n",
       "        vertical-align: middle;\n",
       "    }\n",
       "\n",
       "    .dataframe tbody tr th {\n",
       "        vertical-align: top;\n",
       "    }\n",
       "\n",
       "    .dataframe thead th {\n",
       "        text-align: right;\n",
       "    }\n",
       "</style>\n",
       "<table border=\"1\" class=\"dataframe\">\n",
       "  <thead>\n",
       "    <tr style=\"text-align: right;\">\n",
       "      <th></th>\n",
       "      <th>user_id</th>\n",
       "      <th>session_id</th>\n",
       "      <th>time_stamp</th>\n",
       "      <th>event_name</th>\n",
       "      <th>ad_id</th>\n",
       "      <th>channel</th>\n",
       "      <th>category_name_1</th>\n",
       "      <th>category_name_2</th>\n",
       "    </tr>\n",
       "  </thead>\n",
       "  <tbody>\n",
       "    <tr>\n",
       "      <th>0</th>\n",
       "      <td>g97t07v0wif2</td>\n",
       "      <td>ffa6acsavya608i3</td>\n",
       "      <td>2021-06-01</td>\n",
       "      <td>listing</td>\n",
       "      <td>NaN</td>\n",
       "      <td>android</td>\n",
       "      <td>NaN</td>\n",
       "      <td>NaN</td>\n",
       "    </tr>\n",
       "    <tr>\n",
       "      <th>1</th>\n",
       "      <td>5uhpyit6k11p</td>\n",
       "      <td>2vdknsqr0w4g8vkl</td>\n",
       "      <td>2021-06-07</td>\n",
       "      <td>listing</td>\n",
       "      <td>NaN</td>\n",
       "      <td>desktop_web</td>\n",
       "      <td>NaN</td>\n",
       "      <td>NaN</td>\n",
       "    </tr>\n",
       "    <tr>\n",
       "      <th>2</th>\n",
       "      <td>ouq25xxc0ey4</td>\n",
       "      <td>dpxkyy1bx9bff0si</td>\n",
       "      <td>2021-06-06</td>\n",
       "      <td>listing</td>\n",
       "      <td>NaN</td>\n",
       "      <td>mobile_web</td>\n",
       "      <td>NaN</td>\n",
       "      <td>NaN</td>\n",
       "    </tr>\n",
       "    <tr>\n",
       "      <th>3</th>\n",
       "      <td>696mc67vw4d4</td>\n",
       "      <td>6ggi8wvn27777s3l</td>\n",
       "      <td>2021-06-06</td>\n",
       "      <td>listing</td>\n",
       "      <td>NaN</td>\n",
       "      <td>android</td>\n",
       "      <td>NaN</td>\n",
       "      <td>NaN</td>\n",
       "    </tr>\n",
       "    <tr>\n",
       "      <th>4</th>\n",
       "      <td>t9fnztgbvj5d</td>\n",
       "      <td>9adjw1gu1fdk0bpf</td>\n",
       "      <td>2021-06-02</td>\n",
       "      <td>listing</td>\n",
       "      <td>NaN</td>\n",
       "      <td>android</td>\n",
       "      <td>NaN</td>\n",
       "      <td>NaN</td>\n",
       "    </tr>\n",
       "  </tbody>\n",
       "</table>\n",
       "</div>"
      ],
      "text/plain": [
       "        user_id        session_id  time_stamp event_name  ad_id      channel  \\\n",
       "0  g97t07v0wif2  ffa6acsavya608i3  2021-06-01    listing    NaN      android   \n",
       "1  5uhpyit6k11p  2vdknsqr0w4g8vkl  2021-06-07    listing    NaN  desktop_web   \n",
       "2  ouq25xxc0ey4  dpxkyy1bx9bff0si  2021-06-06    listing    NaN   mobile_web   \n",
       "3  696mc67vw4d4  6ggi8wvn27777s3l  2021-06-06    listing    NaN      android   \n",
       "4  t9fnztgbvj5d  9adjw1gu1fdk0bpf  2021-06-02    listing    NaN      android   \n",
       "\n",
       "  category_name_1 category_name_2  \n",
       "0             NaN             NaN  \n",
       "1             NaN             NaN  \n",
       "2             NaN             NaN  \n",
       "3             NaN             NaN  \n",
       "4             NaN             NaN  "
      ]
     },
     "execution_count": 10,
     "metadata": {},
     "output_type": "execute_result"
    }
   ],
   "source": [
    "data['time_stamp'] = data['time_stamp'].apply(lambda x: x.split(' ')[0])\n",
    "data['time_stamp'] = data['time_stamp'].apply(lambda x: functions.str_to_date(x))\n",
    "data.head()"
   ]
  },
  {
   "cell_type": "markdown",
   "metadata": {},
   "source": [
    "**Checking the dates available in the dataset**"
   ]
  },
  {
   "cell_type": "code",
   "execution_count": 11,
   "metadata": {},
   "outputs": [
    {
     "data": {
      "text/plain": [
       "2021-06-01    28555\n",
       "2021-06-02    28631\n",
       "2021-06-03    28972\n",
       "2021-06-04    27673\n",
       "2021-06-05    29513\n",
       "2021-06-06    31752\n",
       "2021-06-07    33467\n",
       "2021-06-08    31014\n",
       "2021-06-09    26200\n",
       "2021-06-10    28275\n",
       "2021-06-11      853\n",
       "Name: time_stamp, dtype: int64"
      ]
     },
     "execution_count": 11,
     "metadata": {},
     "output_type": "execute_result"
    }
   ],
   "source": [
    "data['time_stamp'].value_counts(dropna=False).sort_index()"
   ]
  },
  {
   "cell_type": "markdown",
   "metadata": {},
   "source": [
    "Task says that data has been randomly selected for date range 01-10.06.2021, so clean I the data accordingly."
   ]
  },
  {
   "cell_type": "code",
   "execution_count": 12,
   "metadata": {},
   "outputs": [
    {
     "data": {
      "text/plain": [
       "2021-06-01    28555\n",
       "2021-06-02    28631\n",
       "2021-06-03    28972\n",
       "2021-06-04    27673\n",
       "2021-06-05    29513\n",
       "2021-06-06    31752\n",
       "2021-06-07    33467\n",
       "2021-06-08    31014\n",
       "2021-06-09    26200\n",
       "2021-06-10    28275\n",
       "Name: time_stamp, dtype: int64"
      ]
     },
     "execution_count": 12,
     "metadata": {},
     "output_type": "execute_result"
    }
   ],
   "source": [
    "start = functions.str_to_date('2021-06-01')\n",
    "end = functions.str_to_date('2021-06-10')\n",
    "\n",
    "data = data[(data['time_stamp'] >= start) & (data['time_stamp'] <= end)]\n",
    "data['time_stamp'].value_counts(dropna=False).sort_index()"
   ]
  },
  {
   "cell_type": "markdown",
   "metadata": {},
   "source": [
    "**Event name**\n",
    "* listing - displaying results of a search in a listing form\n",
    "* ad_page -  displaying a single offer"
   ]
  },
  {
   "cell_type": "code",
   "execution_count": 13,
   "metadata": {},
   "outputs": [
    {
     "data": {
      "text/html": [
       "<div>\n",
       "<style scoped>\n",
       "    .dataframe tbody tr th:only-of-type {\n",
       "        vertical-align: middle;\n",
       "    }\n",
       "\n",
       "    .dataframe tbody tr th {\n",
       "        vertical-align: top;\n",
       "    }\n",
       "\n",
       "    .dataframe thead th {\n",
       "        text-align: right;\n",
       "    }\n",
       "</style>\n",
       "<table border=\"1\" class=\"dataframe\">\n",
       "  <thead>\n",
       "    <tr style=\"text-align: right;\">\n",
       "      <th></th>\n",
       "      <th>user_id</th>\n",
       "      <th>session_id</th>\n",
       "      <th>time_stamp</th>\n",
       "      <th>event_name</th>\n",
       "      <th>ad_id</th>\n",
       "      <th>channel</th>\n",
       "      <th>category_name_1</th>\n",
       "      <th>category_name_2</th>\n",
       "    </tr>\n",
       "  </thead>\n",
       "  <tbody>\n",
       "    <tr>\n",
       "      <th>17</th>\n",
       "      <td>bdahvmdsr0i8</td>\n",
       "      <td>3suw966acddzk8uq</td>\n",
       "      <td>2021-06-07</td>\n",
       "      <td>ad_page</td>\n",
       "      <td>NaN</td>\n",
       "      <td>ios</td>\n",
       "      <td>NaN</td>\n",
       "      <td>NaN</td>\n",
       "    </tr>\n",
       "    <tr>\n",
       "      <th>30</th>\n",
       "      <td>x3bmx2x54yd2</td>\n",
       "      <td>zu0qhg5r3zvwiqgz</td>\n",
       "      <td>2021-06-08</td>\n",
       "      <td>ad_page</td>\n",
       "      <td>NaN</td>\n",
       "      <td>android</td>\n",
       "      <td>NaN</td>\n",
       "      <td>NaN</td>\n",
       "    </tr>\n",
       "    <tr>\n",
       "      <th>53</th>\n",
       "      <td>5kjcnr4cczjc</td>\n",
       "      <td>1fy4cpzz3k8qcnd4</td>\n",
       "      <td>2021-06-01</td>\n",
       "      <td>ad_page</td>\n",
       "      <td>NaN</td>\n",
       "      <td>android</td>\n",
       "      <td>NaN</td>\n",
       "      <td>NaN</td>\n",
       "    </tr>\n",
       "    <tr>\n",
       "      <th>112</th>\n",
       "      <td>hjf5alm8qygp</td>\n",
       "      <td>a7u6j550p1ozgfba</td>\n",
       "      <td>2021-06-01</td>\n",
       "      <td>ad_page</td>\n",
       "      <td>NaN</td>\n",
       "      <td>android</td>\n",
       "      <td>NaN</td>\n",
       "      <td>NaN</td>\n",
       "    </tr>\n",
       "    <tr>\n",
       "      <th>115</th>\n",
       "      <td>dmp5u6h502fn</td>\n",
       "      <td>f7a2qj7r65puozo5</td>\n",
       "      <td>2021-06-06</td>\n",
       "      <td>ad_page</td>\n",
       "      <td>NaN</td>\n",
       "      <td>android</td>\n",
       "      <td>NaN</td>\n",
       "      <td>NaN</td>\n",
       "    </tr>\n",
       "  </tbody>\n",
       "</table>\n",
       "</div>"
      ],
      "text/plain": [
       "          user_id        session_id  time_stamp event_name  ad_id  channel  \\\n",
       "17   bdahvmdsr0i8  3suw966acddzk8uq  2021-06-07    ad_page    NaN      ios   \n",
       "30   x3bmx2x54yd2  zu0qhg5r3zvwiqgz  2021-06-08    ad_page    NaN  android   \n",
       "53   5kjcnr4cczjc  1fy4cpzz3k8qcnd4  2021-06-01    ad_page    NaN  android   \n",
       "112  hjf5alm8qygp  a7u6j550p1ozgfba  2021-06-01    ad_page    NaN  android   \n",
       "115  dmp5u6h502fn  f7a2qj7r65puozo5  2021-06-06    ad_page    NaN  android   \n",
       "\n",
       "    category_name_1 category_name_2  \n",
       "17              NaN             NaN  \n",
       "30              NaN             NaN  \n",
       "53              NaN             NaN  \n",
       "112             NaN             NaN  \n",
       "115             NaN             NaN  "
      ]
     },
     "execution_count": 13,
     "metadata": {},
     "output_type": "execute_result"
    }
   ],
   "source": [
    "data[(data['event_name']=='ad_page') & (data['ad_id'].isna())].head()"
   ]
  },
  {
   "cell_type": "markdown",
   "metadata": {},
   "source": [
    "There is a big number of observations with ad_page `event_name` that do not have `ad_id`.  \n",
    "It seems weird, because `event_name` ad_page means that user displayed an offer, so it should have an id."
   ]
  },
  {
   "cell_type": "markdown",
   "metadata": {},
   "source": [
    "## **Analysis**"
   ]
  },
  {
   "cell_type": "code",
   "execution_count": 14,
   "metadata": {},
   "outputs": [
    {
     "data": {
      "text/html": [
       "<div>\n",
       "<style scoped>\n",
       "    .dataframe tbody tr th:only-of-type {\n",
       "        vertical-align: middle;\n",
       "    }\n",
       "\n",
       "    .dataframe tbody tr th {\n",
       "        vertical-align: top;\n",
       "    }\n",
       "\n",
       "    .dataframe thead th {\n",
       "        text-align: right;\n",
       "    }\n",
       "</style>\n",
       "<table border=\"1\" class=\"dataframe\">\n",
       "  <thead>\n",
       "    <tr style=\"text-align: right;\">\n",
       "      <th></th>\n",
       "      <th>user_id</th>\n",
       "      <th>session_id</th>\n",
       "      <th>time_stamp</th>\n",
       "      <th>event_name</th>\n",
       "      <th>ad_id</th>\n",
       "      <th>channel</th>\n",
       "      <th>category_name_1</th>\n",
       "      <th>category_name_2</th>\n",
       "    </tr>\n",
       "  </thead>\n",
       "  <tbody>\n",
       "    <tr>\n",
       "      <th>0</th>\n",
       "      <td>g97t07v0wif2</td>\n",
       "      <td>ffa6acsavya608i3</td>\n",
       "      <td>2021-06-01</td>\n",
       "      <td>listing</td>\n",
       "      <td>NaN</td>\n",
       "      <td>android</td>\n",
       "      <td>NaN</td>\n",
       "      <td>NaN</td>\n",
       "    </tr>\n",
       "    <tr>\n",
       "      <th>1</th>\n",
       "      <td>5uhpyit6k11p</td>\n",
       "      <td>2vdknsqr0w4g8vkl</td>\n",
       "      <td>2021-06-07</td>\n",
       "      <td>listing</td>\n",
       "      <td>NaN</td>\n",
       "      <td>desktop_web</td>\n",
       "      <td>NaN</td>\n",
       "      <td>NaN</td>\n",
       "    </tr>\n",
       "    <tr>\n",
       "      <th>2</th>\n",
       "      <td>ouq25xxc0ey4</td>\n",
       "      <td>dpxkyy1bx9bff0si</td>\n",
       "      <td>2021-06-06</td>\n",
       "      <td>listing</td>\n",
       "      <td>NaN</td>\n",
       "      <td>mobile_web</td>\n",
       "      <td>NaN</td>\n",
       "      <td>NaN</td>\n",
       "    </tr>\n",
       "    <tr>\n",
       "      <th>3</th>\n",
       "      <td>696mc67vw4d4</td>\n",
       "      <td>6ggi8wvn27777s3l</td>\n",
       "      <td>2021-06-06</td>\n",
       "      <td>listing</td>\n",
       "      <td>NaN</td>\n",
       "      <td>android</td>\n",
       "      <td>NaN</td>\n",
       "      <td>NaN</td>\n",
       "    </tr>\n",
       "    <tr>\n",
       "      <th>4</th>\n",
       "      <td>t9fnztgbvj5d</td>\n",
       "      <td>9adjw1gu1fdk0bpf</td>\n",
       "      <td>2021-06-02</td>\n",
       "      <td>listing</td>\n",
       "      <td>NaN</td>\n",
       "      <td>android</td>\n",
       "      <td>NaN</td>\n",
       "      <td>NaN</td>\n",
       "    </tr>\n",
       "  </tbody>\n",
       "</table>\n",
       "</div>"
      ],
      "text/plain": [
       "        user_id        session_id  time_stamp event_name  ad_id      channel  \\\n",
       "0  g97t07v0wif2  ffa6acsavya608i3  2021-06-01    listing    NaN      android   \n",
       "1  5uhpyit6k11p  2vdknsqr0w4g8vkl  2021-06-07    listing    NaN  desktop_web   \n",
       "2  ouq25xxc0ey4  dpxkyy1bx9bff0si  2021-06-06    listing    NaN   mobile_web   \n",
       "3  696mc67vw4d4  6ggi8wvn27777s3l  2021-06-06    listing    NaN      android   \n",
       "4  t9fnztgbvj5d  9adjw1gu1fdk0bpf  2021-06-02    listing    NaN      android   \n",
       "\n",
       "  category_name_1 category_name_2  \n",
       "0             NaN             NaN  \n",
       "1             NaN             NaN  \n",
       "2             NaN             NaN  \n",
       "3             NaN             NaN  \n",
       "4             NaN             NaN  "
      ]
     },
     "execution_count": 14,
     "metadata": {},
     "output_type": "execute_result"
    }
   ],
   "source": [
    "data.head()"
   ]
  },
  {
   "cell_type": "markdown",
   "metadata": {},
   "source": [
    "### **Total daily retention**"
   ]
  },
  {
   "cell_type": "markdown",
   "metadata": {},
   "source": [
    "**Retention** is defined as the percentage of users who visited the platform on a given day and returned within the next 3 days."
   ]
  },
  {
   "cell_type": "code",
   "execution_count": 15,
   "metadata": {},
   "outputs": [
    {
     "data": {
      "text/html": [
       "<div>\n",
       "<style scoped>\n",
       "    .dataframe tbody tr th:only-of-type {\n",
       "        vertical-align: middle;\n",
       "    }\n",
       "\n",
       "    .dataframe tbody tr th {\n",
       "        vertical-align: top;\n",
       "    }\n",
       "\n",
       "    .dataframe thead th {\n",
       "        text-align: right;\n",
       "    }\n",
       "</style>\n",
       "<table border=\"1\" class=\"dataframe\">\n",
       "  <thead>\n",
       "    <tr style=\"text-align: right;\">\n",
       "      <th></th>\n",
       "      <th>time_stamp</th>\n",
       "      <th>user_id</th>\n",
       "    </tr>\n",
       "  </thead>\n",
       "  <tbody>\n",
       "    <tr>\n",
       "      <th>0</th>\n",
       "      <td>2021-06-01</td>\n",
       "      <td>g97t07v0wif2</td>\n",
       "    </tr>\n",
       "    <tr>\n",
       "      <th>1</th>\n",
       "      <td>2021-06-01</td>\n",
       "      <td>jxcpwlvpnroz</td>\n",
       "    </tr>\n",
       "    <tr>\n",
       "      <th>2</th>\n",
       "      <td>2021-06-01</td>\n",
       "      <td>mgz0az39gd83</td>\n",
       "    </tr>\n",
       "    <tr>\n",
       "      <th>3</th>\n",
       "      <td>2021-06-01</td>\n",
       "      <td>qwlsfbl7a9xk</td>\n",
       "    </tr>\n",
       "    <tr>\n",
       "      <th>4</th>\n",
       "      <td>2021-06-01</td>\n",
       "      <td>f2ek8u6toger</td>\n",
       "    </tr>\n",
       "    <tr>\n",
       "      <th>...</th>\n",
       "      <td>...</td>\n",
       "      <td>...</td>\n",
       "    </tr>\n",
       "    <tr>\n",
       "      <th>9640</th>\n",
       "      <td>2021-06-10</td>\n",
       "      <td>icy64x4lva5p</td>\n",
       "    </tr>\n",
       "    <tr>\n",
       "      <th>9641</th>\n",
       "      <td>2021-06-10</td>\n",
       "      <td>jgpgcsxecujw</td>\n",
       "    </tr>\n",
       "    <tr>\n",
       "      <th>9642</th>\n",
       "      <td>2021-06-10</td>\n",
       "      <td>kaj3bvd7uxas</td>\n",
       "    </tr>\n",
       "    <tr>\n",
       "      <th>9643</th>\n",
       "      <td>2021-06-10</td>\n",
       "      <td>pkxe2svux7l3</td>\n",
       "    </tr>\n",
       "    <tr>\n",
       "      <th>9644</th>\n",
       "      <td>2021-06-10</td>\n",
       "      <td>c64vf7hptu6h</td>\n",
       "    </tr>\n",
       "  </tbody>\n",
       "</table>\n",
       "<p>9645 rows × 2 columns</p>\n",
       "</div>"
      ],
      "text/plain": [
       "      time_stamp       user_id\n",
       "0     2021-06-01  g97t07v0wif2\n",
       "1     2021-06-01  jxcpwlvpnroz\n",
       "2     2021-06-01  mgz0az39gd83\n",
       "3     2021-06-01  qwlsfbl7a9xk\n",
       "4     2021-06-01  f2ek8u6toger\n",
       "...          ...           ...\n",
       "9640  2021-06-10  icy64x4lva5p\n",
       "9641  2021-06-10  jgpgcsxecujw\n",
       "9642  2021-06-10  kaj3bvd7uxas\n",
       "9643  2021-06-10  pkxe2svux7l3\n",
       "9644  2021-06-10  c64vf7hptu6h\n",
       "\n",
       "[9645 rows x 2 columns]"
      ]
     },
     "execution_count": 15,
     "metadata": {},
     "output_type": "execute_result"
    }
   ],
   "source": [
    "# Ensuring that there are no duplicates in combination (user_id, time_stamp) - one user counts only once a day\n",
    "data_uq_user = functions.uniques_users_daily(data)\n",
    "data_uq_user"
   ]
  },
  {
   "cell_type": "markdown",
   "metadata": {},
   "source": [
    "**Number of users visiting platform each day**"
   ]
  },
  {
   "cell_type": "code",
   "execution_count": 16,
   "metadata": {},
   "outputs": [
    {
     "data": {
      "text/html": [
       "<div>\n",
       "<style scoped>\n",
       "    .dataframe tbody tr th:only-of-type {\n",
       "        vertical-align: middle;\n",
       "    }\n",
       "\n",
       "    .dataframe tbody tr th {\n",
       "        vertical-align: top;\n",
       "    }\n",
       "\n",
       "    .dataframe thead th {\n",
       "        text-align: right;\n",
       "    }\n",
       "</style>\n",
       "<table border=\"1\" class=\"dataframe\">\n",
       "  <thead>\n",
       "    <tr style=\"text-align: right;\">\n",
       "      <th></th>\n",
       "      <th>user_count</th>\n",
       "    </tr>\n",
       "    <tr>\n",
       "      <th>date</th>\n",
       "      <th></th>\n",
       "    </tr>\n",
       "  </thead>\n",
       "  <tbody>\n",
       "    <tr>\n",
       "      <th>2021-06-01</th>\n",
       "      <td>932</td>\n",
       "    </tr>\n",
       "    <tr>\n",
       "      <th>2021-06-02</th>\n",
       "      <td>956</td>\n",
       "    </tr>\n",
       "    <tr>\n",
       "      <th>2021-06-03</th>\n",
       "      <td>947</td>\n",
       "    </tr>\n",
       "    <tr>\n",
       "      <th>2021-06-04</th>\n",
       "      <td>945</td>\n",
       "    </tr>\n",
       "    <tr>\n",
       "      <th>2021-06-05</th>\n",
       "      <td>960</td>\n",
       "    </tr>\n",
       "    <tr>\n",
       "      <th>2021-06-06</th>\n",
       "      <td>976</td>\n",
       "    </tr>\n",
       "    <tr>\n",
       "      <th>2021-06-07</th>\n",
       "      <td>1015</td>\n",
       "    </tr>\n",
       "    <tr>\n",
       "      <th>2021-06-08</th>\n",
       "      <td>1027</td>\n",
       "    </tr>\n",
       "    <tr>\n",
       "      <th>2021-06-09</th>\n",
       "      <td>950</td>\n",
       "    </tr>\n",
       "    <tr>\n",
       "      <th>2021-06-10</th>\n",
       "      <td>937</td>\n",
       "    </tr>\n",
       "  </tbody>\n",
       "</table>\n",
       "</div>"
      ],
      "text/plain": [
       "            user_count\n",
       "date                  \n",
       "2021-06-01         932\n",
       "2021-06-02         956\n",
       "2021-06-03         947\n",
       "2021-06-04         945\n",
       "2021-06-05         960\n",
       "2021-06-06         976\n",
       "2021-06-07        1015\n",
       "2021-06-08        1027\n",
       "2021-06-09         950\n",
       "2021-06-10         937"
      ]
     },
     "execution_count": 16,
     "metadata": {},
     "output_type": "execute_result"
    }
   ],
   "source": [
    "uq_user_daily_count = data_uq_user.groupby('time_stamp').count()\\\n",
    "    .reset_index().rename(columns={'time_stamp': 'date', 'user_id': 'user_count'}).set_index('date')\n",
    "uq_user_daily_count"
   ]
  },
  {
   "cell_type": "markdown",
   "metadata": {},
   "source": [
    "**Calculating retention**"
   ]
  },
  {
   "cell_type": "code",
   "execution_count": 17,
   "metadata": {},
   "outputs": [
    {
     "data": {
      "text/html": [
       "<div>\n",
       "<style scoped>\n",
       "    .dataframe tbody tr th:only-of-type {\n",
       "        vertical-align: middle;\n",
       "    }\n",
       "\n",
       "    .dataframe tbody tr th {\n",
       "        vertical-align: top;\n",
       "    }\n",
       "\n",
       "    .dataframe thead th {\n",
       "        text-align: right;\n",
       "    }\n",
       "</style>\n",
       "<table border=\"1\" class=\"dataframe\">\n",
       "  <thead>\n",
       "    <tr style=\"text-align: right;\">\n",
       "      <th></th>\n",
       "      <th>returned</th>\n",
       "      <th>retention_rate</th>\n",
       "    </tr>\n",
       "    <tr>\n",
       "      <th>date</th>\n",
       "      <th></th>\n",
       "      <th></th>\n",
       "    </tr>\n",
       "  </thead>\n",
       "  <tbody>\n",
       "    <tr>\n",
       "      <th>2021-06-01</th>\n",
       "      <td>654</td>\n",
       "      <td>70.17</td>\n",
       "    </tr>\n",
       "    <tr>\n",
       "      <th>2021-06-02</th>\n",
       "      <td>677</td>\n",
       "      <td>70.82</td>\n",
       "    </tr>\n",
       "    <tr>\n",
       "      <th>2021-06-03</th>\n",
       "      <td>665</td>\n",
       "      <td>70.22</td>\n",
       "    </tr>\n",
       "    <tr>\n",
       "      <th>2021-06-04</th>\n",
       "      <td>685</td>\n",
       "      <td>72.49</td>\n",
       "    </tr>\n",
       "    <tr>\n",
       "      <th>2021-06-05</th>\n",
       "      <td>669</td>\n",
       "      <td>69.69</td>\n",
       "    </tr>\n",
       "    <tr>\n",
       "      <th>2021-06-06</th>\n",
       "      <td>662</td>\n",
       "      <td>67.83</td>\n",
       "    </tr>\n",
       "    <tr>\n",
       "      <th>2021-06-07</th>\n",
       "      <td>696</td>\n",
       "      <td>68.57</td>\n",
       "    </tr>\n",
       "  </tbody>\n",
       "</table>\n",
       "</div>"
      ],
      "text/plain": [
       "            returned  retention_rate\n",
       "date                                \n",
       "2021-06-01       654           70.17\n",
       "2021-06-02       677           70.82\n",
       "2021-06-03       665           70.22\n",
       "2021-06-04       685           72.49\n",
       "2021-06-05       669           69.69\n",
       "2021-06-06       662           67.83\n",
       "2021-06-07       696           68.57"
      ]
     },
     "execution_count": 17,
     "metadata": {},
     "output_type": "execute_result"
    }
   ],
   "source": [
    "retention = functions.retention_calculator(data_uq_user, show_no=True)\n",
    "retention"
   ]
  },
  {
   "cell_type": "markdown",
   "metadata": {},
   "source": [
    "**Average retention rate for a given timeframe**"
   ]
  },
  {
   "cell_type": "code",
   "execution_count": 18,
   "metadata": {},
   "outputs": [
    {
     "data": {
      "text/plain": [
       "69.97"
      ]
     },
     "execution_count": 18,
     "metadata": {},
     "output_type": "execute_result"
    }
   ],
   "source": [
    "retention['retention_rate'].mean()"
   ]
  },
  {
   "cell_type": "markdown",
   "metadata": {},
   "source": [
    "**User retention visualization**"
   ]
  },
  {
   "cell_type": "code",
   "execution_count": 19,
   "metadata": {},
   "outputs": [
    {
     "data": {
      "image/png": "[encoded data removed]",
      "text/plain": [
       "<Figure size 1200x800 with 3 Axes>"
      ]
     },
     "metadata": {},
     "output_type": "display_data"
    }
   ],
   "source": [
    "plt.rcParams['figure.figsize'] = [12, 8]\n",
    "\n",
    "# Create figure and axis #1\n",
    "fig, ax1 = plt.subplots()\n",
    "\n",
    "# line chart on axis #1\n",
    "ax1.plot(retention.index, retention['retention_rate'], color='#3cd278', linewidth=2, marker='o', label='Retention Rate') \n",
    "ax1.set_ylabel('Retention Rate', fontweight='bold')\n",
    "ax1.set_ylim(0, 100)\n",
    "\n",
    "# colors\n",
    "ax1.set_facecolor('#1c2637')\n",
    "ax1.tick_params(axis='x', colors='white')\n",
    "ax1.tick_params(axis='x', labelrotation = 90)\n",
    "ax1.tick_params(axis='y', colors='white')\n",
    "ax1.yaxis.label.set_color('white')\n",
    "\n",
    "# set up the 2nd axis\n",
    "ax2 = ax1.twinx()\n",
    "\n",
    "# bar chart on axis #2\n",
    "ax2.bar(uq_user_daily_count.index, uq_user_daily_count['user_count'], width=0.7, alpha=1, color='#9ee9bb', label='Number of users who visited on a given day')\n",
    "ax2.grid(False) # grid #2 off\n",
    "ax2.set_ylabel('Number of users', fontweight='bold')\n",
    "ax2.set_ylim(0, 2*max(uq_user_daily_count['user_count']))\n",
    "\n",
    "# colors\n",
    "ax2.spines['bottom'].set_color('white')\n",
    "ax2.spines['top'].set_color('white') \n",
    "ax2.spines['right'].set_color('white')\n",
    "ax2.spines['left'].set_color('white')\n",
    "ax2.tick_params(axis='y', colors='white')\n",
    "ax2.yaxis.label.set_color('white')\n",
    "\n",
    "# set up the 3rd axis\n",
    "ax3 = ax1.twinx()\n",
    "\n",
    "# bar chart on axis #3\n",
    "ax3.bar(retention.index, retention['returned'], width=0.7, alpha=1, color='#3cd278', label='Number of users who returned within the next 3 days')\n",
    "ax3.grid(False) # grid #3 off\n",
    "ax3.set_ylim(0, 2*max(uq_user_daily_count['user_count']))\n",
    "ax3.title.set_color('white')\n",
    "ax3.spines['right'].set_visible(False)\n",
    "\n",
    "# colors\n",
    "ax3.spines['bottom'].set_color('white')\n",
    "ax3.spines['top'].set_color('white') \n",
    "ax3.spines['right'].set_color('white')\n",
    "ax3.spines['left'].set_color('white')\n",
    "ax3.tick_params(axis='y', colors='white')\n",
    "ax3.yaxis.label.set_color('white')\n",
    "\n",
    "fig.legend(loc=\"upper right\", bbox_to_anchor=(0.90,0.88))\n",
    "plt.title('User Retention Rate', fontsize=14, fontweight='bold')\n",
    "#plt.savefig('user_retention_rate.png')\n",
    "fig.set_facecolor('#1c2637')\n",
    "plt.show()"
   ]
  },
  {
   "cell_type": "markdown",
   "metadata": {},
   "source": [
    "### **Retention in categories**"
   ]
  },
  {
   "cell_type": "markdown",
   "metadata": {},
   "source": [
    "**Filtering the data where category data is available**"
   ]
  },
  {
   "cell_type": "code",
   "execution_count": 20,
   "metadata": {},
   "outputs": [
    {
     "data": {
      "text/html": [
       "<div>\n",
       "<style scoped>\n",
       "    .dataframe tbody tr th:only-of-type {\n",
       "        vertical-align: middle;\n",
       "    }\n",
       "\n",
       "    .dataframe tbody tr th {\n",
       "        vertical-align: top;\n",
       "    }\n",
       "\n",
       "    .dataframe thead th {\n",
       "        text-align: right;\n",
       "    }\n",
       "</style>\n",
       "<table border=\"1\" class=\"dataframe\">\n",
       "  <thead>\n",
       "    <tr style=\"text-align: right;\">\n",
       "      <th></th>\n",
       "      <th>user_id</th>\n",
       "      <th>session_id</th>\n",
       "      <th>time_stamp</th>\n",
       "      <th>event_name</th>\n",
       "      <th>ad_id</th>\n",
       "      <th>channel</th>\n",
       "      <th>category_name_1</th>\n",
       "      <th>category_name_2</th>\n",
       "    </tr>\n",
       "  </thead>\n",
       "  <tbody>\n",
       "    <tr>\n",
       "      <th>0</th>\n",
       "      <td>0js5cbihkrtm</td>\n",
       "      <td>mz7esaiegnu2lgoe</td>\n",
       "      <td>2021-06-08</td>\n",
       "      <td>ad_page</td>\n",
       "      <td>22954313.0</td>\n",
       "      <td>ios</td>\n",
       "      <td>Houses</td>\n",
       "      <td>Houses for Rent</td>\n",
       "    </tr>\n",
       "    <tr>\n",
       "      <th>1</th>\n",
       "      <td>hfcv6jzqdyc2</td>\n",
       "      <td>ysvt0s0arwter1f0</td>\n",
       "      <td>2021-06-10</td>\n",
       "      <td>ad_page</td>\n",
       "      <td>80901654.0</td>\n",
       "      <td>android</td>\n",
       "      <td>Houses</td>\n",
       "      <td>Houses for Sale</td>\n",
       "    </tr>\n",
       "    <tr>\n",
       "      <th>2</th>\n",
       "      <td>2gy5w2efifmn</td>\n",
       "      <td>0n9t19wcqg876d8s</td>\n",
       "      <td>2021-06-04</td>\n",
       "      <td>ad_page</td>\n",
       "      <td>28496574.0</td>\n",
       "      <td>android</td>\n",
       "      <td>Other</td>\n",
       "      <td>OtherSale</td>\n",
       "    </tr>\n",
       "    <tr>\n",
       "      <th>3</th>\n",
       "      <td>sbsi12grwbsa</td>\n",
       "      <td>szfo2313uc2tt7mh</td>\n",
       "      <td>2021-06-08</td>\n",
       "      <td>ad_page</td>\n",
       "      <td>9081792.0</td>\n",
       "      <td>android</td>\n",
       "      <td>Apartments</td>\n",
       "      <td>Apartments for Rent</td>\n",
       "    </tr>\n",
       "    <tr>\n",
       "      <th>4</th>\n",
       "      <td>c3qbpmeiwfca</td>\n",
       "      <td>xn4dzy7su6sxx4hi</td>\n",
       "      <td>2021-06-07</td>\n",
       "      <td>ad_page</td>\n",
       "      <td>84177254.0</td>\n",
       "      <td>android</td>\n",
       "      <td>Houses</td>\n",
       "      <td>Houses for Sale</td>\n",
       "    </tr>\n",
       "  </tbody>\n",
       "</table>\n",
       "</div>"
      ],
      "text/plain": [
       "        user_id        session_id  time_stamp event_name       ad_id  channel  \\\n",
       "0  0js5cbihkrtm  mz7esaiegnu2lgoe  2021-06-08    ad_page  22954313.0      ios   \n",
       "1  hfcv6jzqdyc2  ysvt0s0arwter1f0  2021-06-10    ad_page  80901654.0  android   \n",
       "2  2gy5w2efifmn  0n9t19wcqg876d8s  2021-06-04    ad_page  28496574.0  android   \n",
       "3  sbsi12grwbsa  szfo2313uc2tt7mh  2021-06-08    ad_page   9081792.0  android   \n",
       "4  c3qbpmeiwfca  xn4dzy7su6sxx4hi  2021-06-07    ad_page  84177254.0  android   \n",
       "\n",
       "  category_name_1      category_name_2  \n",
       "0          Houses      Houses for Rent  \n",
       "1          Houses      Houses for Sale  \n",
       "2           Other            OtherSale  \n",
       "3      Apartments  Apartments for Rent  \n",
       "4          Houses      Houses for Sale  "
      ]
     },
     "execution_count": 20,
     "metadata": {},
     "output_type": "execute_result"
    }
   ],
   "source": [
    "data_categories = data[data['category_name_1'].notna()].reset_index(drop=True)\n",
    "data_categories.head()"
   ]
  },
  {
   "cell_type": "markdown",
   "metadata": {},
   "source": [
    "**Are users only visiting one category?**"
   ]
  },
  {
   "cell_type": "code",
   "execution_count": 21,
   "metadata": {},
   "outputs": [
    {
     "data": {
      "image/png": "[encoded data removed]",
      "text/plain": [
       "<Figure size 1200x800 with 1 Axes>"
      ]
     },
     "metadata": {},
     "output_type": "display_data"
    },
    {
     "data": {
      "text/html": [
       "<div>\n",
       "<style scoped>\n",
       "    .dataframe tbody tr th:only-of-type {\n",
       "        vertical-align: middle;\n",
       "    }\n",
       "\n",
       "    .dataframe tbody tr th {\n",
       "        vertical-align: top;\n",
       "    }\n",
       "\n",
       "    .dataframe thead th {\n",
       "        text-align: right;\n",
       "    }\n",
       "</style>\n",
       "<table border=\"1\" class=\"dataframe\">\n",
       "  <thead>\n",
       "    <tr style=\"text-align: right;\">\n",
       "      <th></th>\n",
       "      <th>users_nb</th>\n",
       "    </tr>\n",
       "    <tr>\n",
       "      <th>categories_visited</th>\n",
       "      <th></th>\n",
       "    </tr>\n",
       "  </thead>\n",
       "  <tbody>\n",
       "    <tr>\n",
       "      <th>1</th>\n",
       "      <td>1525</td>\n",
       "    </tr>\n",
       "    <tr>\n",
       "      <th>2</th>\n",
       "      <td>851</td>\n",
       "    </tr>\n",
       "    <tr>\n",
       "      <th>3</th>\n",
       "      <td>350</td>\n",
       "    </tr>\n",
       "    <tr>\n",
       "      <th>4</th>\n",
       "      <td>235</td>\n",
       "    </tr>\n",
       "    <tr>\n",
       "      <th>5</th>\n",
       "      <td>73</td>\n",
       "    </tr>\n",
       "    <tr>\n",
       "      <th>6</th>\n",
       "      <td>9</td>\n",
       "    </tr>\n",
       "  </tbody>\n",
       "</table>\n",
       "</div>"
      ],
      "text/plain": [
       "                    users_nb\n",
       "categories_visited          \n",
       "1                       1525\n",
       "2                        851\n",
       "3                        350\n",
       "4                        235\n",
       "5                         73\n",
       "6                          9"
      ]
     },
     "execution_count": 21,
     "metadata": {},
     "output_type": "execute_result"
    }
   ],
   "source": [
    "user_uq_category = data_categories.drop_duplicates(subset=['user_id', 'category_name_1'])\n",
    "uq_user_category_count = pd.DataFrame(user_uq_category.groupby(['user_id'])['category_name_1'].count()).reset_index()\n",
    "uq_user_category_count = uq_user_category_count.groupby('category_name_1').count()\n",
    "uq_user_category_count.reset_index(inplace=True)\n",
    "uq_user_category_count.columns = ['categories_visited', 'users_nb']\n",
    "\n",
    "fig, ax1 = plt.subplots()\n",
    "ax1.pie(uq_user_category_count['users_nb'], labels=uq_user_category_count['categories_visited'], autopct='%1.1f%%', startangle=90, explode=(0., 0., 0., 0., 0.1, 0.3),\n",
    "        textprops={'color':\"w\", 'fontweight': 'bold', 'fontsize': '13'}, colors=['#3cd278', '#ff7841', '#ffd255', '#3cbed2', '#967deb', '#8e939b'])\n",
    "ax1.tick_params(axis='y', colors='white')\n",
    "\n",
    "#plt.savefig('cateogries_pie.png')\n",
    "fig.set_facecolor('#1c2637')\n",
    "plt.show()\n",
    "pd.DataFrame(uq_user_category_count).set_index('categories_visited')"
   ]
  },
  {
   "cell_type": "markdown",
   "metadata": {},
   "source": [
    "In a given timeframe:\n",
    "* Over 50% of users visit only one category\n",
    "* All 6 categories were visited by only 0.3% of the users"
   ]
  },
  {
   "cell_type": "markdown",
   "metadata": {},
   "source": [
    "**Exploring values of categories_1**"
   ]
  },
  {
   "cell_type": "code",
   "execution_count": 22,
   "metadata": {},
   "outputs": [
    {
     "data": {
      "text/plain": [
       "Apartments     49710\n",
       "Houses         37832\n",
       "Plots           9461\n",
       "Commercials     5905\n",
       "Other           1201\n",
       "Unknown           91\n",
       "Name: category_name_1, dtype: int64"
      ]
     },
     "execution_count": 22,
     "metadata": {},
     "output_type": "execute_result"
    }
   ],
   "source": [
    "data_categories['category_name_1'].value_counts()"
   ]
  },
  {
   "cell_type": "markdown",
   "metadata": {},
   "source": [
    "Apartments and Houses seem to be the most popular categories among users."
   ]
  },
  {
   "cell_type": "markdown",
   "metadata": {},
   "source": [
    "**Retention based on category_1**"
   ]
  },
  {
   "cell_type": "code",
   "execution_count": 23,
   "metadata": {},
   "outputs": [
    {
     "name": "stdout",
     "output_type": "stream",
     "text": [
      "Category_1: Apartments\n",
      "            retention_rate\n",
      "date                      \n",
      "2021-06-01           66.85\n",
      "2021-06-02           70.34\n",
      "2021-06-03           68.35\n",
      "2021-06-04           70.26\n",
      "2021-06-05           70.63\n",
      "2021-06-06           67.88\n",
      "2021-06-07           67.79\n",
      "Avg. retention rate: 68.87 \n",
      "\n",
      "Category_1: Houses\n",
      "            retention_rate\n",
      "date                      \n",
      "2021-06-01           64.04\n",
      "2021-06-02           65.53\n",
      "2021-06-03           65.32\n",
      "2021-06-04           66.74\n",
      "2021-06-05           64.25\n",
      "2021-06-06           60.99\n",
      "2021-06-07           61.01\n",
      "Avg. retention rate: 63.98 \n",
      "\n",
      "Category_1: Plots\n",
      "            retention_rate\n",
      "date                      \n",
      "2021-06-01           50.00\n",
      "2021-06-02           50.00\n",
      "2021-06-03           51.45\n",
      "2021-06-04           50.00\n",
      "2021-06-05           50.93\n",
      "2021-06-06           45.30\n",
      "2021-06-07           50.27\n",
      "Avg. retention rate: 49.71 \n",
      "\n",
      "Category_1: Commercials\n",
      "            retention_rate\n",
      "date                      \n",
      "2021-06-01           38.37\n",
      "2021-06-02           39.29\n",
      "2021-06-03           40.62\n",
      "2021-06-04           36.26\n",
      "2021-06-05           48.39\n",
      "2021-06-06           46.00\n",
      "2021-06-07           39.83\n",
      "Avg. retention rate: 41.25 \n",
      "\n"
     ]
    }
   ],
   "source": [
    "category_1 = ['Apartments', 'Houses', 'Plots', 'Commercials']\n",
    "\n",
    "for i in category_1:\n",
    "    # Filters DataFrame based on category_1\n",
    "    data_one_category = data_categories[data_categories['category_name_1']==i]\n",
    "\n",
    "    data_uq_user_cateogry = functions.uniques_users_daily(data_one_category)\n",
    "\n",
    "    retention = functions.retention_calculator(data_uq_user_cateogry)\n",
    "    print('Category_1:', i)\n",
    "    print(retention)\n",
    "    print('Avg. retention rate:', round(retention['retention_rate'].mean(), 2), '\\n')"
   ]
  },
  {
   "cell_type": "markdown",
   "metadata": {},
   "source": [
    "**Exploring values of categories_2**"
   ]
  },
  {
   "cell_type": "code",
   "execution_count": 24,
   "metadata": {},
   "outputs": [
    {
     "data": {
      "text/plain": [
       "category_name_1  category_name_2     \n",
       "Apartments       Apartments for Rent     28102\n",
       "                 Apartments for Sale     21608\n",
       "Commercials      Commercials for Rent     2564\n",
       "                 Commercials for Sale     3341\n",
       "Houses           Houses for Rent          7759\n",
       "                 Houses for Sale         30073\n",
       "Other            OtherRent                 481\n",
       "                 OtherSale                 720\n",
       "Plots            Plots for Rent            336\n",
       "                 Plots for Sale           9125\n",
       "Unknown          Exchange                   91\n",
       "Name: user_id, dtype: int64"
      ]
     },
     "execution_count": 24,
     "metadata": {},
     "output_type": "execute_result"
    }
   ],
   "source": [
    "data_categories.groupby(['category_name_1', 'category_name_2'])['user_id'].count()"
   ]
  },
  {
   "cell_type": "markdown",
   "metadata": {},
   "source": [
    "Houses for Sale is the most popular category, however Apartments for Rent and Apartments for Sale are close behind as 2nd and 3rd place."
   ]
  },
  {
   "cell_type": "markdown",
   "metadata": {},
   "source": [
    "**Retention based on category_2**"
   ]
  },
  {
   "cell_type": "code",
   "execution_count": 25,
   "metadata": {},
   "outputs": [
    {
     "name": "stdout",
     "output_type": "stream",
     "text": [
      "Category_2: Apartments for Sale\n",
      "            retention_rate\n",
      "date                      \n",
      "2021-06-01           65.13\n",
      "2021-06-02           61.33\n",
      "2021-06-03           58.31\n",
      "2021-06-04           64.07\n",
      "2021-06-05           66.32\n",
      "2021-06-06           64.54\n",
      "2021-06-07           63.98\n",
      "Avg. retention rate: 63.38 \n",
      "\n",
      "Category_2: Houses for Sale\n",
      "            retention_rate\n",
      "date                      \n",
      "2021-06-01           65.92\n",
      "2021-06-02           63.78\n",
      "2021-06-03           61.98\n",
      "2021-06-04           66.27\n",
      "2021-06-05           62.80\n",
      "2021-06-06           58.15\n",
      "2021-06-07           61.04\n",
      "Avg. retention rate: 62.85 \n",
      "\n",
      "Category_2: Commercials for Sale\n",
      "            retention_rate\n",
      "date                      \n",
      "2021-06-01           43.33\n",
      "2021-06-02           38.71\n",
      "2021-06-03           38.57\n",
      "2021-06-04           39.06\n",
      "2021-06-05           49.28\n",
      "2021-06-06           40.62\n",
      "2021-06-07           36.25\n",
      "Avg. retention rate: 40.83 \n",
      "\n",
      "Category_2: Apartments for Rent\n",
      "            retention_rate\n",
      "date                      \n",
      "2021-06-01           62.28\n",
      "2021-06-02           66.24\n",
      "2021-06-03           68.63\n",
      "2021-06-04           67.53\n",
      "2021-06-05           67.10\n",
      "2021-06-06           63.95\n",
      "2021-06-07           61.52\n",
      "Avg. retention rate: 65.32 \n",
      "\n",
      "Category_2: Houses for Rent\n",
      "            retention_rate\n",
      "date                      \n",
      "2021-06-01           47.13\n",
      "2021-06-02           60.45\n",
      "2021-06-03           60.78\n",
      "2021-06-04           55.86\n",
      "2021-06-05           56.46\n",
      "2021-06-06           56.02\n",
      "2021-06-07           50.29\n",
      "Avg. retention rate: 55.28 \n",
      "\n",
      "Category_2: Commercials for Rent\n",
      "            retention_rate\n",
      "date                      \n",
      "2021-06-01           34.09\n",
      "2021-06-02           39.58\n",
      "2021-06-03           35.85\n",
      "2021-06-04           25.00\n",
      "2021-06-05           38.00\n",
      "2021-06-06           42.62\n",
      "2021-06-07           31.15\n",
      "Avg. retention rate: 35.18 \n",
      "\n",
      "Category_2: Plots for Sale\n",
      "            retention_rate\n",
      "date                      \n",
      "2021-06-01           51.09\n",
      "2021-06-02           49.35\n",
      "2021-06-03           52.12\n",
      "2021-06-04           49.67\n",
      "2021-06-05           50.64\n",
      "2021-06-06           45.71\n",
      "2021-06-07           51.14\n",
      "Avg. retention rate: 49.96 \n",
      "\n"
     ]
    }
   ],
   "source": [
    "category_2 = ['Apartments for Sale', 'Houses for Sale', 'Commercials for Sale', \n",
    "            'Apartments for Rent', 'Houses for Rent', 'Commercials for Rent',\n",
    "            'Plots for Sale']\n",
    "\n",
    "for i in category_2:\n",
    "    # Filters DataFrame based on category_2\n",
    "    data_one_category = data_categories[data_categories['category_name_2']==i]\n",
    "\n",
    "    data_uq_user_cateogry = functions.uniques_users_daily(data_one_category)\n",
    "\n",
    "    retention = functions.retention_calculator(data_uq_user_cateogry)\n",
    "    print('Category_2:', i)\n",
    "    print(retention)\n",
    "    print('Avg. retention rate:', round(retention['retention_rate'].mean(), 2), '\\n')"
   ]
  },
  {
   "cell_type": "markdown",
   "metadata": {},
   "source": [
    "### **Retention in channels**"
   ]
  },
  {
   "cell_type": "markdown",
   "metadata": {},
   "source": [
    "**Exploring values of channel**"
   ]
  },
  {
   "cell_type": "code",
   "execution_count": 26,
   "metadata": {},
   "outputs": [
    {
     "data": {
      "image/png": "[encoded data removed]",
      "text/plain": [
       "<Figure size 1200x800 with 1 Axes>"
      ]
     },
     "metadata": {},
     "output_type": "display_data"
    },
    {
     "data": {
      "text/html": [
       "<div>\n",
       "<style scoped>\n",
       "    .dataframe tbody tr th:only-of-type {\n",
       "        vertical-align: middle;\n",
       "    }\n",
       "\n",
       "    .dataframe tbody tr th {\n",
       "        vertical-align: top;\n",
       "    }\n",
       "\n",
       "    .dataframe thead th {\n",
       "        text-align: right;\n",
       "    }\n",
       "</style>\n",
       "<table border=\"1\" class=\"dataframe\">\n",
       "  <thead>\n",
       "    <tr style=\"text-align: right;\">\n",
       "      <th></th>\n",
       "      <th>channel</th>\n",
       "    </tr>\n",
       "  </thead>\n",
       "  <tbody>\n",
       "    <tr>\n",
       "      <th>android</th>\n",
       "      <td>182725</td>\n",
       "    </tr>\n",
       "    <tr>\n",
       "      <th>ios</th>\n",
       "      <td>55389</td>\n",
       "    </tr>\n",
       "    <tr>\n",
       "      <th>mobile_web</th>\n",
       "      <td>38775</td>\n",
       "    </tr>\n",
       "    <tr>\n",
       "      <th>desktop_web</th>\n",
       "      <td>17163</td>\n",
       "    </tr>\n",
       "  </tbody>\n",
       "</table>\n",
       "</div>"
      ],
      "text/plain": [
       "             channel\n",
       "android       182725\n",
       "ios            55389\n",
       "mobile_web     38775\n",
       "desktop_web    17163"
      ]
     },
     "execution_count": 26,
     "metadata": {},
     "output_type": "execute_result"
    }
   ],
   "source": [
    "channels_summary = data['channel'].value_counts()\n",
    "\n",
    "fig, ax1 = plt.subplots()\n",
    "ax1.pie(channels_summary.values, labels=channels_summary.index, autopct='%1.1f%%', startangle=90,\n",
    "        textprops={'color':\"w\", 'fontweight': 'bold', 'fontsize': '13'}, colors=['#3cd278', '#ff7841', '#ffd255', '#3cbed2'])\n",
    "ax1.tick_params(axis='y', colors='white')\n",
    "\n",
    "#plt.savefig('channels_pie.png')\n",
    "fig.set_facecolor('#1c2637')\n",
    "plt.title('Channels', fontsize=17, color='w', fontweight='bold')\n",
    "plt.show()\n",
    "\n",
    "pd.DataFrame(channels_summary)"
   ]
  },
  {
   "cell_type": "markdown",
   "metadata": {},
   "source": [
    "Android is by far the most popular channel."
   ]
  },
  {
   "cell_type": "markdown",
   "metadata": {},
   "source": [
    "**Retention based on channel**"
   ]
  },
  {
   "cell_type": "code",
   "execution_count": 27,
   "metadata": {},
   "outputs": [
    {
     "data": {
      "text/html": [
       "<div>\n",
       "<style scoped>\n",
       "    .dataframe tbody tr th:only-of-type {\n",
       "        vertical-align: middle;\n",
       "    }\n",
       "\n",
       "    .dataframe tbody tr th {\n",
       "        vertical-align: top;\n",
       "    }\n",
       "\n",
       "    .dataframe thead th {\n",
       "        text-align: right;\n",
       "    }\n",
       "</style>\n",
       "<table border=\"1\" class=\"dataframe\">\n",
       "  <thead>\n",
       "    <tr style=\"text-align: right;\">\n",
       "      <th></th>\n",
       "      <th>user_id</th>\n",
       "      <th>session_id</th>\n",
       "      <th>time_stamp</th>\n",
       "      <th>event_name</th>\n",
       "      <th>ad_id</th>\n",
       "      <th>channel</th>\n",
       "      <th>category_name_1</th>\n",
       "      <th>category_name_2</th>\n",
       "    </tr>\n",
       "  </thead>\n",
       "  <tbody>\n",
       "    <tr>\n",
       "      <th>0</th>\n",
       "      <td>g97t07v0wif2</td>\n",
       "      <td>ffa6acsavya608i3</td>\n",
       "      <td>2021-06-01</td>\n",
       "      <td>listing</td>\n",
       "      <td>NaN</td>\n",
       "      <td>android</td>\n",
       "      <td>NaN</td>\n",
       "      <td>NaN</td>\n",
       "    </tr>\n",
       "    <tr>\n",
       "      <th>1</th>\n",
       "      <td>5uhpyit6k11p</td>\n",
       "      <td>2vdknsqr0w4g8vkl</td>\n",
       "      <td>2021-06-07</td>\n",
       "      <td>listing</td>\n",
       "      <td>NaN</td>\n",
       "      <td>desktop_web</td>\n",
       "      <td>NaN</td>\n",
       "      <td>NaN</td>\n",
       "    </tr>\n",
       "    <tr>\n",
       "      <th>2</th>\n",
       "      <td>ouq25xxc0ey4</td>\n",
       "      <td>dpxkyy1bx9bff0si</td>\n",
       "      <td>2021-06-06</td>\n",
       "      <td>listing</td>\n",
       "      <td>NaN</td>\n",
       "      <td>mobile_web</td>\n",
       "      <td>NaN</td>\n",
       "      <td>NaN</td>\n",
       "    </tr>\n",
       "    <tr>\n",
       "      <th>3</th>\n",
       "      <td>696mc67vw4d4</td>\n",
       "      <td>6ggi8wvn27777s3l</td>\n",
       "      <td>2021-06-06</td>\n",
       "      <td>listing</td>\n",
       "      <td>NaN</td>\n",
       "      <td>android</td>\n",
       "      <td>NaN</td>\n",
       "      <td>NaN</td>\n",
       "    </tr>\n",
       "    <tr>\n",
       "      <th>4</th>\n",
       "      <td>t9fnztgbvj5d</td>\n",
       "      <td>9adjw1gu1fdk0bpf</td>\n",
       "      <td>2021-06-02</td>\n",
       "      <td>listing</td>\n",
       "      <td>NaN</td>\n",
       "      <td>android</td>\n",
       "      <td>NaN</td>\n",
       "      <td>NaN</td>\n",
       "    </tr>\n",
       "  </tbody>\n",
       "</table>\n",
       "</div>"
      ],
      "text/plain": [
       "        user_id        session_id  time_stamp event_name  ad_id      channel  \\\n",
       "0  g97t07v0wif2  ffa6acsavya608i3  2021-06-01    listing    NaN      android   \n",
       "1  5uhpyit6k11p  2vdknsqr0w4g8vkl  2021-06-07    listing    NaN  desktop_web   \n",
       "2  ouq25xxc0ey4  dpxkyy1bx9bff0si  2021-06-06    listing    NaN   mobile_web   \n",
       "3  696mc67vw4d4  6ggi8wvn27777s3l  2021-06-06    listing    NaN      android   \n",
       "4  t9fnztgbvj5d  9adjw1gu1fdk0bpf  2021-06-02    listing    NaN      android   \n",
       "\n",
       "  category_name_1 category_name_2  \n",
       "0             NaN             NaN  \n",
       "1             NaN             NaN  \n",
       "2             NaN             NaN  \n",
       "3             NaN             NaN  \n",
       "4             NaN             NaN  "
      ]
     },
     "execution_count": 27,
     "metadata": {},
     "output_type": "execute_result"
    }
   ],
   "source": [
    "data_channels = data[data['channel'].notna()].reset_index(drop=True)\n",
    "data_channels.head()"
   ]
  },
  {
   "cell_type": "code",
   "execution_count": 28,
   "metadata": {},
   "outputs": [
    {
     "name": "stdout",
     "output_type": "stream",
     "text": [
      "Channel: android\n",
      "            retention_rate\n",
      "date                      \n",
      "2021-06-01           78.40\n",
      "2021-06-02           81.40\n",
      "2021-06-03           81.33\n",
      "2021-06-04           80.66\n",
      "2021-06-05           80.89\n",
      "2021-06-06           79.89\n",
      "2021-06-07           79.29\n",
      "Avg. retention rate: 80.27 \n",
      "\n",
      "Channel: desktop_web\n",
      "            retention_rate\n",
      "date                      \n",
      "2021-06-01           44.21\n",
      "2021-06-02           45.45\n",
      "2021-06-03           50.79\n",
      "2021-06-04           50.00\n",
      "2021-06-05           51.52\n",
      "2021-06-06           41.33\n",
      "2021-06-07           39.62\n",
      "Avg. retention rate: 46.13 \n",
      "\n",
      "Channel: mobile_web\n",
      "            retention_rate\n",
      "date                      \n",
      "2021-06-01           42.36\n",
      "2021-06-02           40.76\n",
      "2021-06-03           39.38\n",
      "2021-06-04           46.41\n",
      "2021-06-05           36.00\n",
      "2021-06-06           35.71\n",
      "2021-06-07           41.52\n",
      "Avg. retention rate: 40.31 \n",
      "\n",
      "Channel: ios\n",
      "            retention_rate\n",
      "date                      \n",
      "2021-06-01           83.33\n",
      "2021-06-02           77.98\n",
      "2021-06-03           71.04\n",
      "2021-06-04           81.25\n",
      "2021-06-05           75.56\n",
      "2021-06-06           75.14\n",
      "2021-06-07           78.03\n",
      "Avg. retention rate: 77.48 \n",
      "\n"
     ]
    }
   ],
   "source": [
    "channels = data['channel'].unique()\n",
    "\n",
    "for i in channels:\n",
    "    # Filters DataFrame based on channel\n",
    "    data_one_channel = data_channels[data_channels['channel']==i]\n",
    "\n",
    "    data_uq_user_channel = functions.uniques_users_daily(data_one_channel)\n",
    "\n",
    "    retention = functions.retention_calculator(data_uq_user_channel)\n",
    "    print('Channel:', i)\n",
    "    print(retention)\n",
    "    print('Avg. retention rate:', round(retention['retention_rate'].mean(), 2), '\\n')"
   ]
  },
  {
   "cell_type": "markdown",
   "metadata": {},
   "source": [
    "### **Hypothesis verification**"
   ]
  },
  {
   "cell_type": "markdown",
   "metadata": {},
   "source": [
    "**Task:** Verify hypothesis that users using ios have higher retention rate than users using mobile web version."
   ]
  },
  {
   "cell_type": "markdown",
   "metadata": {},
   "source": [
    "**ios users**"
   ]
  },
  {
   "cell_type": "code",
   "execution_count": 29,
   "metadata": {},
   "outputs": [
    {
     "data": {
      "text/plain": [
       "(array([83.33, 77.98, 71.04, 81.25, 75.56, 75.14, 78.03]), 77.47571428571429)"
      ]
     },
     "execution_count": 29,
     "metadata": {},
     "output_type": "execute_result"
    }
   ],
   "source": [
    "data_channels = data[data['channel'].notna()].reset_index(drop=True)\n",
    "data_one_channel = data_channels[data_channels['channel']=='ios']\n",
    "data_uq_user_channel = functions.uniques_users_daily(data_one_channel)\n",
    "retention = functions.retention_calculator(data_uq_user_channel)\n",
    "\n",
    "ios_users = np.array(retention['retention_rate'])\n",
    "ios_users, ios_users.mean()"
   ]
  },
  {
   "cell_type": "markdown",
   "metadata": {},
   "source": [
    "**mobile_web users**"
   ]
  },
  {
   "cell_type": "code",
   "execution_count": 30,
   "metadata": {},
   "outputs": [
    {
     "data": {
      "text/plain": [
       "(array([42.36, 40.76, 39.38, 46.41, 36.  , 35.71, 41.52]), 40.30571428571428)"
      ]
     },
     "execution_count": 30,
     "metadata": {},
     "output_type": "execute_result"
    }
   ],
   "source": [
    "data_channels = data[data['channel'].notna()].reset_index(drop=True)\n",
    "data_one_channel = data_channels[data_channels['channel']=='mobile_web']\n",
    "data_uq_user_channel = functions.uniques_users_daily(data_one_channel)\n",
    "retention = functions.retention_calculator(data_uq_user_channel)\n",
    "\n",
    "mobile_web_users = np.array(retention['retention_rate'])\n",
    "mobile_web_users, mobile_web_users.mean()"
   ]
  },
  {
   "cell_type": "code",
   "execution_count": 41,
   "metadata": {},
   "outputs": [
    {
     "data": {
      "text/html": [
       "<div>\n",
       "<style scoped>\n",
       "    .dataframe tbody tr th:only-of-type {\n",
       "        vertical-align: middle;\n",
       "    }\n",
       "\n",
       "    .dataframe tbody tr th {\n",
       "        vertical-align: top;\n",
       "    }\n",
       "\n",
       "    .dataframe thead th {\n",
       "        text-align: right;\n",
       "    }\n",
       "</style>\n",
       "<table border=\"1\" class=\"dataframe\">\n",
       "  <thead>\n",
       "    <tr style=\"text-align: right;\">\n",
       "      <th></th>\n",
       "      <th>ios_users</th>\n",
       "      <th>mobile_web_users</th>\n",
       "    </tr>\n",
       "  </thead>\n",
       "  <tbody>\n",
       "    <tr>\n",
       "      <th>0</th>\n",
       "      <td>83.33</td>\n",
       "      <td>42.36</td>\n",
       "    </tr>\n",
       "    <tr>\n",
       "      <th>1</th>\n",
       "      <td>77.98</td>\n",
       "      <td>40.76</td>\n",
       "    </tr>\n",
       "    <tr>\n",
       "      <th>2</th>\n",
       "      <td>71.04</td>\n",
       "      <td>39.38</td>\n",
       "    </tr>\n",
       "    <tr>\n",
       "      <th>3</th>\n",
       "      <td>81.25</td>\n",
       "      <td>46.41</td>\n",
       "    </tr>\n",
       "    <tr>\n",
       "      <th>4</th>\n",
       "      <td>75.56</td>\n",
       "      <td>36.00</td>\n",
       "    </tr>\n",
       "    <tr>\n",
       "      <th>5</th>\n",
       "      <td>75.14</td>\n",
       "      <td>35.71</td>\n",
       "    </tr>\n",
       "    <tr>\n",
       "      <th>6</th>\n",
       "      <td>78.03</td>\n",
       "      <td>41.52</td>\n",
       "    </tr>\n",
       "  </tbody>\n",
       "</table>\n",
       "</div>"
      ],
      "text/plain": [
       "   ios_users  mobile_web_users\n",
       "0      83.33             42.36\n",
       "1      77.98             40.76\n",
       "2      71.04             39.38\n",
       "3      81.25             46.41\n",
       "4      75.56             36.00\n",
       "5      75.14             35.71\n",
       "6      78.03             41.52"
      ]
     },
     "execution_count": 41,
     "metadata": {},
     "output_type": "execute_result"
    }
   ],
   "source": [
    "boxplot_data = pd.DataFrame({\"ios_users\": ios_users, \"mobile_web_users\": mobile_web_users})\n",
    "boxplot_data"
   ]
  },
  {
   "cell_type": "code",
   "execution_count": 90,
   "metadata": {},
   "outputs": [
    {
     "data": {
      "image/png": "[encoded data removed]",
      "text/plain": [
       "<Figure size 1000x700 with 1 Axes>"
      ]
     },
     "metadata": {},
     "output_type": "display_data"
    }
   ],
   "source": [
    "labels = ['ios_users', 'mobile_web_users']\n",
    "fig = plt.figure(figsize=(10,7))\n",
    "ax = plt.axes()\n",
    "\n",
    "plt.boxplot(boxplot_data, vert=True, labels=labels, patch_artist=True,\n",
    "            boxprops=dict(facecolor=\"#3cd278\", color='w'),\n",
    "            capprops=dict(color='w'),\n",
    "            whiskerprops=dict(color='w'),\n",
    "            flierprops=dict(color='w', markeredgecolor='w'),\n",
    "            medianprops=dict(color='w'),\n",
    "            )\n",
    "\n",
    "fig.set_facecolor('#1c2637')\n",
    "ax.set_facecolor('#1c2637')\n",
    "\n",
    "ax.spines['bottom'].set_color('w')\n",
    "ax.spines['top'].set_color('w') \n",
    "ax.spines['right'].set_color('w')\n",
    "ax.spines['left'].set_color('w')\n",
    "ax.tick_params(axis='x', colors='w')\n",
    "ax.tick_params(axis='y', colors='w')\n",
    "ax.yaxis.label.set_color('w')\n",
    "ax.xaxis.label.set_color('w')\n",
    "\n",
    "plt.grid(axis='y', alpha=0.5, color='w')\n",
    "ax.set_ylabel('Retention Rate', fontweight='bold')\n",
    "ax.set_xlabel('Channel', fontweight='bold')\n",
    "plt.title('Retention Rate: ios vs mobile_web', fontsize=14, color='w', fontweight='bold')\n",
    "plt.show()"
   ]
  },
  {
   "cell_type": "markdown",
   "metadata": {},
   "source": [
    "At first glance, you can see the retention rate for **ios users** is way higher than for **mobile_web users**."
   ]
  },
  {
   "cell_type": "markdown",
   "metadata": {},
   "source": [
    "**Normality check**"
   ]
  },
  {
   "cell_type": "code",
   "execution_count": 32,
   "metadata": {},
   "outputs": [],
   "source": [
    "# Shapiro test\n",
    "\n",
    "# H0: Data is normally distributed\n",
    "# H1: Data is not normally distributed\n",
    "\n",
    "def check_normality(data):\n",
    "    test_stat, p_value=stats.shapiro(data)\n",
    "    print('p-value:', round(p_value, 6))\n",
    "    if p_value <0.05:\n",
    "        print(\"Data is not normally distributed.\")\n",
    "    else:\n",
    "        print(\"Data is normally distributed.\")"
   ]
  },
  {
   "cell_type": "code",
   "execution_count": 33,
   "metadata": {},
   "outputs": [
    {
     "name": "stdout",
     "output_type": "stream",
     "text": [
      "p-value: 0.934858\n",
      "Data is normally distributed.\n"
     ]
    }
   ],
   "source": [
    "check_normality(ios_users)"
   ]
  },
  {
   "cell_type": "code",
   "execution_count": 34,
   "metadata": {},
   "outputs": [
    {
     "name": "stdout",
     "output_type": "stream",
     "text": [
      "p-value: 0.691658\n",
      "Data is normally distributed.\n"
     ]
    }
   ],
   "source": [
    "check_normality(mobile_web_users)"
   ]
  },
  {
   "cell_type": "markdown",
   "metadata": {},
   "source": [
    "**Variance homogeneity check**"
   ]
  },
  {
   "cell_type": "code",
   "execution_count": 35,
   "metadata": {},
   "outputs": [],
   "source": [
    "# Levene's test\n",
    "\n",
    "#H0: The variances of the samples are same.\n",
    "#H1: The variances of the samples are different.\n",
    "\n",
    "def check_variance_homogeneity(group1, group2):\n",
    "    test_stat, p_value = stats.levene(group1,group2)\n",
    "    print('p-value:', round(p_value, 6))\n",
    "    if p_value <0.05:\n",
    "        print(\"Variances of the samples are different.\")\n",
    "    else:\n",
    "        print(\"Variances of the samples are same.\")"
   ]
  },
  {
   "cell_type": "code",
   "execution_count": 36,
   "metadata": {},
   "outputs": [
    {
     "name": "stdout",
     "output_type": "stream",
     "text": [
      "p-value: 0.85811\n",
      "Variances of the samples are same.\n"
     ]
    }
   ],
   "source": [
    "check_variance_homogeneity(ios_users, mobile_web_users)"
   ]
  },
  {
   "cell_type": "markdown",
   "metadata": {},
   "source": [
    "Samples have normal distribution and their variances are similar."
   ]
  },
  {
   "cell_type": "markdown",
   "metadata": {},
   "source": [
    "**Student's t-test for 2 independent samples**\n",
    "\n",
    "H0: ios users have smaller or equal retention rate than mobile web users.  \n",
    "H1: ios users have higher retention rate than mobile web users. "
   ]
  },
  {
   "cell_type": "code",
   "execution_count": 37,
   "metadata": {},
   "outputs": [],
   "source": [
    "def check_ttest(group1, group2):\n",
    "    ttest, p_value = stats.ttest_ind(group1, group2)\n",
    "    print('p-value:', round(p_value, 6))\n",
    "    print('p_value_one_sided:', round(p_value/2, 6))\n",
    "    if p_value/2 <0.05:\n",
    "        print(\"Reject null hypothesis.\")\n",
    "    else:\n",
    "        print(\"Fail to reject null hypothesis.\")"
   ]
  },
  {
   "cell_type": "code",
   "execution_count": 38,
   "metadata": {},
   "outputs": [
    {
     "name": "stdout",
     "output_type": "stream",
     "text": [
      "p-value: 0.0\n",
      "p_value_one_sided: 0.0\n",
      "Reject null hypothesis.\n"
     ]
    }
   ],
   "source": [
    "check_ttest(ios_users, mobile_web_users)"
   ]
  },
  {
   "cell_type": "markdown",
   "metadata": {},
   "source": [
    "At this significance level, there is enough evidence to conclude that the average retention rate for ios users in higher than mobile web users."
   ]
  }
 ],
 "metadata": {
  "kernelspec": {
   "display_name": "Python 3.10.8 64-bit",
   "language": "python",
   "name": "python3"
  },
  "language_info": {
   "codemirror_mode": {
    "name": "ipython",
    "version": 3
   },
   "file_extension": ".py",
   "mimetype": "text/x-python",
   "name": "python",
   "nbconvert_exporter": "python",
   "pygments_lexer": "ipython3",
   "version": "3.10.8"
  },
  "orig_nbformat": 4,
  "vscode": {
   "interpreter": {
    "hash": "769021efd479f93dbd80f3a6a99906a3560c45691fa9516612ecf69fc8e87f90"
   }
  }
 },
 "nbformat": 4,
 "nbformat_minor": 2
}
