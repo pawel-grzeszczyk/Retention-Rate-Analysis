{
 "cells": [
  {
   "cell_type": "markdown",
   "metadata": {},
   "source": [
    "### **Imports**"
   ]
  },
  {
   "cell_type": "code",
   "execution_count": 1,
   "metadata": {},
   "outputs": [],
   "source": [
    "import pandas as pd\n",
    "\n",
    "from sqlalchemy import create_engine\n",
    "import secrets_\n",
    "import urllib"
   ]
  },
  {
   "cell_type": "markdown",
   "metadata": {},
   "source": [
    "### **Connecting with SQL Server database**"
   ]
  },
  {
   "cell_type": "code",
   "execution_count": 2,
   "metadata": {},
   "outputs": [],
   "source": [
    "params = urllib.parse.quote_plus(\"\"\"DRIVER={}; \n",
    "                                    SERVER={}; \n",
    "                                    DATABASE={}; \n",
    "                                    Trusted_Connection=yes\"\"\".format(secrets_.driver, secrets_.server, secrets_.database))\n",
    "\n",
    "conn = create_engine(\"mssql+pyodbc:///?odbc_connect={}\".format(params))"
   ]
  },
  {
   "cell_type": "markdown",
   "metadata": {},
   "source": [
    "### **Analysis**"
   ]
  },
  {
   "cell_type": "markdown",
   "metadata": {},
   "source": [
    "**SQL Query calculating daily retention rate**"
   ]
  },
  {
   "cell_type": "code",
   "execution_count": 3,
   "metadata": {},
   "outputs": [
    {
     "data": {
      "text/html": [
       "<div>\n",
       "<style scoped>\n",
       "    .dataframe tbody tr th:only-of-type {\n",
       "        vertical-align: middle;\n",
       "    }\n",
       "\n",
       "    .dataframe tbody tr th {\n",
       "        vertical-align: top;\n",
       "    }\n",
       "\n",
       "    .dataframe thead th {\n",
       "        text-align: right;\n",
       "    }\n",
       "</style>\n",
       "<table border=\"1\" class=\"dataframe\">\n",
       "  <thead>\n",
       "    <tr style=\"text-align: right;\">\n",
       "      <th></th>\n",
       "      <th>date_visited</th>\n",
       "      <th>retention_rate</th>\n",
       "    </tr>\n",
       "  </thead>\n",
       "  <tbody>\n",
       "    <tr>\n",
       "      <th>0</th>\n",
       "      <td>2021-06-01</td>\n",
       "      <td>70.17</td>\n",
       "    </tr>\n",
       "    <tr>\n",
       "      <th>1</th>\n",
       "      <td>2021-06-02</td>\n",
       "      <td>70.82</td>\n",
       "    </tr>\n",
       "    <tr>\n",
       "      <th>2</th>\n",
       "      <td>2021-06-03</td>\n",
       "      <td>70.22</td>\n",
       "    </tr>\n",
       "    <tr>\n",
       "      <th>3</th>\n",
       "      <td>2021-06-04</td>\n",
       "      <td>72.49</td>\n",
       "    </tr>\n",
       "    <tr>\n",
       "      <th>4</th>\n",
       "      <td>2021-06-05</td>\n",
       "      <td>69.69</td>\n",
       "    </tr>\n",
       "    <tr>\n",
       "      <th>5</th>\n",
       "      <td>2021-06-06</td>\n",
       "      <td>67.83</td>\n",
       "    </tr>\n",
       "    <tr>\n",
       "      <th>6</th>\n",
       "      <td>2021-06-07</td>\n",
       "      <td>68.57</td>\n",
       "    </tr>\n",
       "  </tbody>\n",
       "</table>\n",
       "</div>"
      ],
      "text/plain": [
       "  date_visited  retention_rate\n",
       "0   2021-06-01           70.17\n",
       "1   2021-06-02           70.82\n",
       "2   2021-06-03           70.22\n",
       "3   2021-06-04           72.49\n",
       "4   2021-06-05           69.69\n",
       "5   2021-06-06           67.83\n",
       "6   2021-06-07           68.57"
      ]
     },
     "execution_count": 3,
     "metadata": {},
     "output_type": "execute_result"
    }
   ],
   "source": [
    "pd.read_sql_query(\"\"\"\n",
    "\n",
    "-- unique combination of user and date\n",
    "WITH user_data as (\n",
    "\tSELECT DISTINCT user_id, CAST(time_stamp AS date) as date_visited\n",
    "\tFROM data_visits\n",
    "\tWHERE time_stamp < '2021-06-11'),\n",
    "\n",
    "-- number of users who visited platform on each day\n",
    "daily_users as (\n",
    "\tSELECT date_visited, count(*) as users\n",
    "\tFROM user_data\n",
    "\tGROUP BY date_visited),\n",
    "\n",
    "-- table with users, dates of their visits on platform and the next date when they returned to platofrm\n",
    "users_dates AS (\n",
    "\tSELECT user_id, date_visited, \n",
    "\t\t\tlead(date_visited, 1) over (partition by user_id ORDER BY  user_id, date_visited) AS date_returned\n",
    "\tFROM user_data),\n",
    "\n",
    "-- number of users who returned to platform within 3 days from their previous visit for each day\n",
    "returned_users AS (\n",
    "\tSELECT date_visited, count(*) as returned\n",
    "\tFROM users_dates\n",
    "\tWHERE DATEDIFF(day, date_visited, date_returned) IN (1,2,3)\n",
    "\tGROUP BY date_visited)\n",
    "\n",
    "SELECT returned_users.date_visited, round((cast(returned as float)/users)*100, 2) as retention_rate\n",
    "FROM returned_users INNER JOIN daily_users ON returned_users.date_visited = daily_users.date_visited\n",
    "WHERE returned_users.date_visited <= '2021-06-07'\n",
    "ORDER BY returned_users.date_visited\n",
    "\"\"\", conn)"
   ]
  }
 ],
 "metadata": {
  "kernelspec": {
   "display_name": "Python 3.10.8 64-bit",
   "language": "python",
   "name": "python3"
  },
  "language_info": {
   "codemirror_mode": {
    "name": "ipython",
    "version": 3
   },
   "file_extension": ".py",
   "mimetype": "text/x-python",
   "name": "python",
   "nbconvert_exporter": "python",
   "pygments_lexer": "ipython3",
   "version": "3.10.8"
  },
  "orig_nbformat": 4,
  "vscode": {
   "interpreter": {
    "hash": "769021efd479f93dbd80f3a6a99906a3560c45691fa9516612ecf69fc8e87f90"
   }
  }
 },
 "nbformat": 4,
 "nbformat_minor": 2
}
